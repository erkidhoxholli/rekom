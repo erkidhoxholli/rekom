{
 "cells": [
  {
   "cell_type": "code",
   "execution_count": 1,
   "metadata": {},
   "outputs": [],
   "source": [
    "import redis\n",
    "import math"
   ]
  },
  {
   "cell_type": "code",
   "execution_count": 2,
   "metadata": {},
   "outputs": [],
   "source": [
    "redis_client = redis.StrictRedis(host='localhost', port=6379, db=0, charset=\"utf-8\", decode_responses=True)"
   ]
  },
  {
   "cell_type": "code",
   "execution_count": 3,
   "metadata": {},
   "outputs": [],
   "source": [
    "### based on https://github.com/RedisLabs/redis-recommend/blob/master/redrec/engine.go\n",
    "### redis commands: https://redis.io/commands/zunionstore\n",
    "def rate(item, user, score):\n",
    "    redis_client.execute_command('ZADD', f'user:{user}:items', score, item)\n",
    "    redis_client.execute_command('ZADD', f'item:{item}:scores', score, user)\n",
    "    redis_client.execute_command('SADD', 'users', user)"
   ]
  },
  {
   "cell_type": "code",
   "execution_count": 4,
   "metadata": {},
   "outputs": [],
   "source": [
    "def get_user_suggestions(user, max):\n",
    "    return redis_client.execute_command('ZREVRANGE', f'user:{user}:suggestions', 0, max, 'WITHSCORES')"
   ]
  },
  {
   "cell_type": "code",
   "execution_count": 5,
   "metadata": {},
   "outputs": [],
   "source": [
    "def batch_update_similar_items(max):\n",
    "    users = redis_client.execute_command(\"SMEMBERS\", \"users\")\n",
    "    for user in users:\n",
    "        candidates = get_similarity_candidates(user, max)\n",
    "        #print(candidates)\n",
    "        \n",
    "        args = []\n",
    "        args.append(f'user:{user}:similars')\n",
    "        for candidate in candidates:\n",
    "            if candidate != user:\n",
    "                score = calculate_similarity(user, candidate)\n",
    "                args.append(score)\n",
    "                args.append(candidate)\n",
    "                \n",
    "        #print(*args)\n",
    "        redis_client.execute_command('ZADD', *args) ## instead of args... in Go \n",
    "    \n",
    "#batch_update_similar_items(100)"
   ]
  },
  {
   "cell_type": "code",
   "execution_count": 9,
   "metadata": {},
   "outputs": [],
   "source": [
    "def get_suggest_candidates(user, max):\n",
    "    similar_users = redis_client.execute_command('ZRANGE', f'user:{user}:similars', 0, max)\n",
    "    max = len(similar_users)\n",
    "    args = []\n",
    "    args.append('ztmp')\n",
    "    args.append(max+1)\n",
    "    args.append(f'user:{user}:items')\n",
    "    \n",
    "    weights = []\n",
    "    weights.append('WEIGHTS')\n",
    "    weights.append(-1)\n",
    "    #print(similar_users)\n",
    "    for simuser in similar_users:\n",
    "        args.append(f'user:{simuser}:items')\n",
    "        weights.append(1)\n",
    "    \n",
    "    args = args + weights\n",
    "    args.append('AGGREGATE')\n",
    "    args.append('MIN')\n",
    "    #print(*args)    \n",
    "    redis_client.execute_command('ZUNIONSTORE', *args)\n",
    "    candidates = redis_client.execute_command(\"ZRANGEBYSCORE\", \"ztmp\", 0, \"inf\")\n",
    "    ##TODO: candidates are not returned properly when user=1\n",
    "    ##  ZUNIONSTORE ztmp 3 user:1:items user:2:items user:3:items WEIGHTS -1 1 1 AGGREGATE MIN\n",
    "    ##  ZRANGEBYSCORE ztmp  0 \"inf\"   ->> !!returns empty\n",
    "    \n",
    "    redis_client.execute_command('DEL', 'ztmp')\n",
    "    return candidates"
   ]
  },
  {
   "cell_type": "code",
   "execution_count": 10,
   "metadata": {},
   "outputs": [
    {
     "data": {
      "text/plain": [
       "0"
      ]
     },
     "execution_count": 10,
     "metadata": {},
     "output_type": "execute_result"
    }
   ],
   "source": [
    "def calculate_item_probability(user, item):    \n",
    "    redis_client.execute_command(\"ZINTERSTORE\", \"ztmp\", 2,  f'user:{user}:similars', f'item:{item}:scores', \"WEIGHTS\", 0, 1) ## https://redis.io/commands/zinterstore\n",
    "    \n",
    "    scores = redis_client.execute_command('ZRANGE', 'ztmp', 0, -1, 'WITHSCORES')\n",
    "    #print(scores)\n",
    "    redis_client.execute_command('DEL', 'ztmp')\n",
    "    if len(scores) == 0: return 0\n",
    "\n",
    "    score = 0\n",
    "    for i in range(1, len(scores), 2):\n",
    "        score += float(scores[i]) ## TODO: check this\n",
    "    \n",
    "    score /= float(len(scores) / 2.0)\n",
    "    #print(score)\n",
    "    return float(score)\n",
    "calculate_item_probability(2, 4)"
   ]
  },
  {
   "cell_type": "code",
   "execution_count": 12,
   "metadata": {},
   "outputs": [
    {
     "name": "stdout",
     "output_type": "stream",
     "text": [
      "probability for user 1 and item 5 is 2.0\n",
      "probability for user 1 and item 3 is 2.0\n",
      "probability for user 1 and item 4 is 3.0\n",
      "user:1:suggestions 2.0 5 2.0 3 3.0 4\n"
     ]
    }
   ],
   "source": [
    "def update_suggested_items(user, max):\n",
    "    items = get_suggest_candidates(user, max)\n",
    "    \n",
    "    ## TODO: newly added\n",
    "    if len(items) == 0: return\n",
    "    \n",
    "    if max > len(items): max = len(items)\n",
    "        \n",
    "    args = []\n",
    "    args.append(f'user:{user}:suggestions')\n",
    "    for item in items:\n",
    "        probability = calculate_item_probability(user, item)\n",
    "        print(f'probability for user {user} and item {item} is {probability}')\n",
    "        args.append(probability)\n",
    "        args.append(item)\n",
    "    print(*args)\n",
    "    redis_client.execute_command('ZADD', *args)\n",
    "    \n",
    "update_suggested_items(1, 100)"
   ]
  },
  {
   "cell_type": "code",
   "execution_count": 13,
   "metadata": {},
   "outputs": [],
   "source": [
    "def get_user_items(user, max):\n",
    "    return redis_client.execute_command('ZREVRANGE', f'user:{user}:items', 0, max)"
   ]
  },
  {
   "cell_type": "code",
   "execution_count": 14,
   "metadata": {},
   "outputs": [],
   "source": [
    "def get_item_scores(item, max):\n",
    "    return redis_client.execute_command('ZREVRANGE', f'user:{item}:scores', 0, max)"
   ]
  },
  {
   "cell_type": "code",
   "execution_count": 15,
   "metadata": {},
   "outputs": [],
   "source": [
    "## checked (is fine)\n",
    "def get_similarity_candidates(user, max):\n",
    "    items = get_user_items(user, max)\n",
    "    if max > len(items): max = len(items)\n",
    "        \n",
    "    args = []\n",
    "    args.append('ztmp')\n",
    "    args.append(max)\n",
    "    for i in range(0, max):\n",
    "        args.append(f'item:{items[i]}:scores')\n",
    "    redis_client.execute_command('ZUNIONSTORE', *args)\n",
    "    users = redis_client.execute_command('ZRANGE', 'ztmp', 0, -1)\n",
    "    redis_client.execute_command('DEL', 'ztmp')\n",
    "    \n",
    "    return users"
   ]
  },
  {
   "cell_type": "code",
   "execution_count": 16,
   "metadata": {},
   "outputs": [
    {
     "data": {
      "text/plain": [
       "3.0"
      ]
     },
     "execution_count": 16,
     "metadata": {},
     "output_type": "execute_result"
    }
   ],
   "source": [
    "## TODO: not working properly\n",
    "## NOTE: the higher the similarity the better (0:1)\n",
    "## http://www.cs.carleton.edu/cs_comps/0607/recommend/recommender/itembased.html\n",
    "def calculate_similarity(user, simuser):\n",
    "    if user == simuser:\n",
    "        return 1.0\n",
    "    \n",
    "    redis_client.execute_command(\"ZINTERSTORE\", \"ztmp\", 2,  f'user:{user}:items', f'user:{simuser}:items', \"WEIGHTS\", 1, -1) ## https://redis.io/commands/zinterstore\n",
    "    user_diffs = redis_client.execute_command('ZRANGE', 'ztmp', 0, -1, 'WITHSCORES')\n",
    "    redis_client.execute_command('DEL', 'ztmp')\n",
    "    #print(user_diffs)\n",
    "    if len(user_diffs) == 0:\n",
    "        return 0\n",
    "    \n",
    "    score = 0.0\n",
    "    #print(f'user_diffs: {user_diffs}')\n",
    "    ## RMS Error\n",
    "    ## https://statweb.stanford.edu/~susan/courses/s60/split/node60.html\n",
    "    \n",
    "    ## WITHSCORE returns the score every each second element including the element itself\n",
    "    ## for ex if user_diffs = ['2', '0'] then 2 is the similar item between 2 users and the score is 0 \n",
    "    for i in range(1, len(user_diffs), 2):\n",
    "#         print('inside')\n",
    "#         print(user_diffs[i])\n",
    "        diff_val = float(user_diffs[i])\n",
    "        #print(f'diff_val: {diff_val}')\n",
    "        score += math.pow(diff_val, 2)\n",
    "    score /= float(len(user_diffs) / 2)\n",
    "    score = math.sqrt(score)\n",
    "    return score\n",
    "\n",
    "calculate_similarity(1, 2)"
   ]
  },
  {
   "cell_type": "code",
   "execution_count": 17,
   "metadata": {},
   "outputs": [],
   "source": [
    "####### PUBLIC METHODS #########\n",
    "def suggest(user, max):\n",
    "    update_suggested_items(user, max)\n",
    "    \n",
    "    suggestions_with_scores = get_user_suggestions(user, max)\n",
    "    #print(f'####### suggestions_with_scores for user {user}: {suggestions_with_scores}')\n",
    "    clean_suggestions = []\n",
    "    for i in range(0, len(suggestions_with_scores), 2):\n",
    "        #print(f'clean_suggestions: {suggestions_with_scores[i]}')\n",
    "        clean_suggestions.append({\n",
    "            'item': suggestions_with_scores[i],\n",
    "            'score': suggestions_with_scores[i+1]\n",
    "        })\n",
    "    print(f'####### suggestions for user {user}: {clean_suggestions}')\n",
    "\n",
    "def update(max):\n",
    "    batch_update_similar_items(max)\n",
    "\n",
    "def get_probability(user, item):\n",
    "    print(f'####### get_probability: {user} {item}')\n",
    "    score = calculate_item_probability(user, item)\n",
    "\n",
    "def rate_item(user, item, score):\n",
    "    print(f'####### rate_items: user {user} rated item {item} with score {score}')\n",
    "    rate(item, user, score)\n",
    "    "
   ]
  },
  {
   "cell_type": "code",
   "execution_count": 18,
   "metadata": {},
   "outputs": [
    {
     "name": "stdout",
     "output_type": "stream",
     "text": [
      "####### rate_items: user 2 rated item 2 with score 2\n",
      "####### rate_items: user 2 rated item 3 with score 2\n",
      "####### rate_items: user 2 rated item 4 with score 3\n",
      "####### rate_items: user 2 rated item 5 with score 1\n",
      "####### rate_items: user 1 rated item 1 with score 3\n",
      "####### rate_items: user 1 rated item 2 with score 5\n",
      "####### rate_items: user 3 rated item 2 with score 3\n",
      "####### rate_items: user 3 rated item 5 with score 3\n",
      "probability for user 1 and item 5 is 2.0\n",
      "probability for user 1 and item 3 is 2.0\n",
      "probability for user 1 and item 4 is 3.0\n",
      "user:1:suggestions 2.0 5 2.0 3 3.0 4\n",
      "####### suggestions for user 1: [{'item': '4', 'score': '3'}, {'item': '5', 'score': '2'}, {'item': '3', 'score': '2'}]\n",
      "probability for user 2 and item 1 is 3.0\n",
      "user:2:suggestions 3.0 1\n",
      "####### suggestions for user 2: [{'item': '1', 'score': '3'}]\n",
      "probability for user 3 and item 3 is 2.0\n",
      "probability for user 3 and item 1 is 3.0\n",
      "probability for user 3 and item 4 is 3.0\n",
      "user:3:suggestions 2.0 3 3.0 1 3.0 4\n",
      "####### suggestions for user 3: [{'item': '4', 'score': '3'}, {'item': '1', 'score': '3'}, {'item': '3', 'score': '2'}]\n"
     ]
    }
   ],
   "source": [
    "###### EXAMPLE #######\n",
    "redis_client.flushall()\n",
    "### rate_item(user, item, score)\n",
    "rate_item(2, 2, 2) \n",
    "rate_item(2, 3, 2) \n",
    "rate_item(2, 4, 3) \n",
    "rate_item(2, 5, 1) \n",
    "\n",
    "rate_item(1, 1, 3)\n",
    "rate_item(1, 2, 5) \n",
    "rate_item(3, 2, 3) \n",
    "rate_item(3, 5, 3) \n",
    "\n",
    "update(100)\n",
    "suggest(1, 100) ## working somehow ?\n",
    "suggest(2, 100) ## working somehow ?\n",
    "suggest(3, 100) ## working somehow"
   ]
  },
  {
   "cell_type": "code",
   "execution_count": 19,
   "metadata": {},
   "outputs": [],
   "source": [
    "## building the API for the recommender above\n",
    "from fastapi import FastAPI\n",
    "\n",
    "app = FastAPI()\n",
    "\n",
    "\n",
    "@app.get(\"/\")\n",
    "async def root():\n",
    "    return {\"message\": \"Hello World\"}\n"
   ]
  },
  {
   "cell_type": "code",
   "execution_count": null,
   "metadata": {},
   "outputs": [],
   "source": []
  }
 ],
 "metadata": {
  "kernelspec": {
   "display_name": "Python 3",
   "language": "python",
   "name": "python3"
  },
  "language_info": {
   "codemirror_mode": {
    "name": "ipython",
    "version": 3
   },
   "file_extension": ".py",
   "mimetype": "text/x-python",
   "name": "python",
   "nbconvert_exporter": "python",
   "pygments_lexer": "ipython3",
   "version": "3.7.4"
  }
 },
 "nbformat": 4,
 "nbformat_minor": 4
}
