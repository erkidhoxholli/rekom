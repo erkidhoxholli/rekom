{
 "cells": [
  {
   "cell_type": "code",
   "execution_count": 2,
   "metadata": {},
   "outputs": [
    {
     "name": "stdout",
     "output_type": "stream",
     "text": [
      "[(1, 1), (1, 34), (1, 44), (2, 1), (2, 100)]\n"
     ]
    }
   ],
   "source": [
    "### users who bought this also bought this other items type of recommender (Cross-selling or Up-selling)\n",
    "\"\"\"\n",
    "    Amazon uses affinity analysis for cross-selling when it recommends products to people \n",
    "    based on their purchase history and the purchase history of other people who bought the same item\n",
    "\"\"\"\n",
    "\n",
    "## This is sometime known as association rule learning\n",
    "## An algorithm that can properly model it is https://en.wikipedia.org/wiki/Apriori_algorithm \n",
    "data = [\n",
    "    (1, 1),\n",
    "    (1, 34),\n",
    "    (1, 44),\n",
    "    (2, 1),\n",
    "    (2, 100)\n",
    "]\n",
    "print(data)"
   ]
  },
  {
   "cell_type": "code",
   "execution_count": null,
   "metadata": {},
   "outputs": [],
   "source": [
    "## mlextend has a great example of using apriori http://rasbt.github.io/mlxtend/user_guide/frequent_patterns/apriori/\n",
    "## IT HAS a lot of usecases in Affinity Analysis"
   ]
  },
  {
   "cell_type": "code",
   "execution_count": 5,
   "metadata": {},
   "outputs": [],
   "source": [
    "\"\"\" CROSS SELLING \"\"\"\n",
    "## interesting: https://blog.gojekengineering.com/how-we-built-a-matchmaking-algorithm-to-cross-sell-products-a8179f042e3d\n",
    "## It comes to KNN vs Matrix Factorization (being the favourite)\n",
    "## Top Matrix Factorization techniques are ALS or Stochastic Gradient Descent\n",
    "## Great blog on building ALS: https://www.ethanrosenthal.com/2016/01/09/explicit-matrix-factorization-sgd-als/\n",
    "import mlxtend"
   ]
  },
  {
   "cell_type": "code",
   "execution_count": 110,
   "metadata": {},
   "outputs": [
    {
     "data": {
      "text/html": [
       "<div>\n",
       "<style scoped>\n",
       "    .dataframe tbody tr th:only-of-type {\n",
       "        vertical-align: middle;\n",
       "    }\n",
       "\n",
       "    .dataframe tbody tr th {\n",
       "        vertical-align: top;\n",
       "    }\n",
       "\n",
       "    .dataframe thead th {\n",
       "        text-align: right;\n",
       "    }\n",
       "</style>\n",
       "<table border=\"1\" class=\"dataframe\">\n",
       "  <thead>\n",
       "    <tr style=\"text-align: right;\">\n",
       "      <th></th>\n",
       "      <th>Adidas</th>\n",
       "      <th>Dolce Gabana</th>\n",
       "      <th>Givenchy</th>\n",
       "      <th>Nike</th>\n",
       "      <th>Puma</th>\n",
       "      <th>Raulph Lauren</th>\n",
       "      <th>Tommy Hilfiger</th>\n",
       "    </tr>\n",
       "  </thead>\n",
       "  <tbody>\n",
       "    <tr>\n",
       "      <td>0</td>\n",
       "      <td>True</td>\n",
       "      <td>False</td>\n",
       "      <td>False</td>\n",
       "      <td>True</td>\n",
       "      <td>True</td>\n",
       "      <td>False</td>\n",
       "      <td>False</td>\n",
       "    </tr>\n",
       "    <tr>\n",
       "      <td>1</td>\n",
       "      <td>False</td>\n",
       "      <td>False</td>\n",
       "      <td>True</td>\n",
       "      <td>False</td>\n",
       "      <td>False</td>\n",
       "      <td>True</td>\n",
       "      <td>True</td>\n",
       "    </tr>\n",
       "    <tr>\n",
       "      <td>2</td>\n",
       "      <td>False</td>\n",
       "      <td>True</td>\n",
       "      <td>True</td>\n",
       "      <td>False</td>\n",
       "      <td>True</td>\n",
       "      <td>False</td>\n",
       "      <td>False</td>\n",
       "    </tr>\n",
       "  </tbody>\n",
       "</table>\n",
       "</div>"
      ],
      "text/plain": [
       "   Adidas  Dolce Gabana  Givenchy   Nike   Puma  Raulph Lauren  Tommy Hilfiger\n",
       "0    True         False     False   True   True          False           False\n",
       "1   False         False      True  False  False           True            True\n",
       "2   False          True      True  False   True          False           False"
      ]
     },
     "execution_count": 110,
     "metadata": {},
     "output_type": "execute_result"
    }
   ],
   "source": [
    "dataset = [['Nike', 'Adidas', 'Puma', ], ## user 1\n",
    "           ['Tommy Hilfiger', 'Raulph Lauren', 'Givenchy', 'Givenchy'], ## user 2\n",
    "           ['Givenchy', 'Dolce Gabana', 'Givenchy', 'Givenchy', 'Puma']] ## user 3\n",
    "         \n",
    "import pandas as pd\n",
    "from mlxtend.preprocessing import TransactionEncoder\n",
    "\n",
    "encoder = TransactionEncoder()\n",
    "te_ary = encoder.fit(dataset).transform(dataset)\n",
    "df = pd.DataFrame(te_ary, columns=encoder.columns_)\n",
    "df"
   ]
  },
  {
   "cell_type": "code",
   "execution_count": 111,
   "metadata": {},
   "outputs": [
    {
     "name": "stdout",
     "output_type": "stream",
     "text": [
      "Processing 2 combinations | Sampling itemset size 2\n"
     ]
    },
    {
     "data": {
      "text/html": [
       "<div>\n",
       "<style scoped>\n",
       "    .dataframe tbody tr th:only-of-type {\n",
       "        vertical-align: middle;\n",
       "    }\n",
       "\n",
       "    .dataframe tbody tr th {\n",
       "        vertical-align: top;\n",
       "    }\n",
       "\n",
       "    .dataframe thead th {\n",
       "        text-align: right;\n",
       "    }\n",
       "</style>\n",
       "<table border=\"1\" class=\"dataframe\">\n",
       "  <thead>\n",
       "    <tr style=\"text-align: right;\">\n",
       "      <th></th>\n",
       "      <th>support</th>\n",
       "      <th>itemsets</th>\n",
       "    </tr>\n",
       "  </thead>\n",
       "  <tbody>\n",
       "    <tr>\n",
       "      <td>0</td>\n",
       "      <td>0.666667</td>\n",
       "      <td>(Givenchy)</td>\n",
       "    </tr>\n",
       "    <tr>\n",
       "      <td>1</td>\n",
       "      <td>0.666667</td>\n",
       "      <td>(Puma)</td>\n",
       "    </tr>\n",
       "  </tbody>\n",
       "</table>\n",
       "</div>"
      ],
      "text/plain": [
       "    support    itemsets\n",
       "0  0.666667  (Givenchy)\n",
       "1  0.666667      (Puma)"
      ]
     },
     "execution_count": 111,
     "metadata": {},
     "output_type": "execute_result"
    }
   ],
   "source": [
    "from mlxtend.frequent_patterns import apriori, fpgrowth, association_rules\n",
    "frequent_itemsets = apriori(df, min_support=0.5, use_colnames=True, verbose=1)\n",
    "frequent_itemsets\n",
    "\n",
    "# rules = association_rules(frequent_itemsets)\n",
    "# rules"
   ]
  },
  {
   "cell_type": "code",
   "execution_count": 18,
   "metadata": {},
   "outputs": [
    {
     "name": "stdout",
     "output_type": "stream",
     "text": [
      "4.01 ms ± 109 µs per loop (mean ± std. dev. of 10 runs, 100 loops each)\n",
      "1.61 ms ± 13.2 µs per loop (mean ± std. dev. of 10 runs, 100 loops each)\n"
     ]
    }
   ],
   "source": [
    "## NOTE: FPGrowth is faster than Apriori http://rasbt.github.io/mlxtend/user_guide/frequent_patterns/fpgrowth/#example-2-apriori-versus-fpgrowth\n",
    "%timeit -n 100 -r 10 apriori(df, min_support=0.6)\n",
    "%timeit -n 100 -r 10 fpgrowth(df, min_support=0.6) ## almost 4 times faster"
   ]
  },
  {
   "cell_type": "code",
   "execution_count": null,
   "metadata": {},
   "outputs": [],
   "source": [
    "## Recommendation can be made, for example at a checkout, when user has item1 and item2 in the shopping cart. we can suggest other \n",
    "## items \n",
    "## https://github.com/smirnov-am/pyfreqpm\n",
    "## !! As association does not require the pre-labeling of classes, it is a form of unsupervised learning"
   ]
  },
  {
   "cell_type": "code",
   "execution_count": null,
   "metadata": {},
   "outputs": [],
   "source": []
  }
 ],
 "metadata": {
  "kernelspec": {
   "display_name": "Python 3",
   "language": "python",
   "name": "python3"
  },
  "language_info": {
   "codemirror_mode": {
    "name": "ipython",
    "version": 3
   },
   "file_extension": ".py",
   "mimetype": "text/x-python",
   "name": "python",
   "nbconvert_exporter": "python",
   "pygments_lexer": "ipython3",
   "version": "3.7.4"
  }
 },
 "nbformat": 4,
 "nbformat_minor": 4
}
